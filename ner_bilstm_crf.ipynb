{
 "metadata": {
  "colab": {
   "private_outputs": true,
   "provenance": [],
   "collapsed_sections": [
    "Fb8MH7KkpD2Y",
    "tGIcQFfBd6qV",
    "aZm_Tb4PvLNY"
   ],
   "gpuType": "T4"
  },
  "kernelspec": {
   "name": "python3",
   "display_name": "Python 3",
   "language": "python"
  },
  "language_info": {
   "name": "python",
   "version": "3.10.13",
   "mimetype": "text/x-python",
   "codemirror_mode": {
    "name": "ipython",
    "version": 3
   },
   "pygments_lexer": "ipython3",
   "nbconvert_exporter": "python",
   "file_extension": ".py"
  },
  "accelerator": "GPU",
  "kaggle": {
   "accelerator": "none",
   "dataSources": [],
   "dockerImageVersionId": 30747,
   "isInternetEnabled": true,
   "language": "python",
   "sourceType": "notebook",
   "isGpuEnabled": false
  }
 },
 "nbformat_minor": 4,
 "nbformat": 4,
 "cells": [
  {
   "cell_type": "code",
   "source": [
    "import random\n",
    "from gensim.models import FastText\n",
    "from torch import nn\n",
    "import torch\n",
    "from torch.nn import functional as F\n",
    "import pandas as pd\n",
    "import numpy as np\n",
    "from tqdm import tqdm\n",
    "from sklearn.model_selection import train_test_split\n",
    "import matplotlib.pyplot as plt\n",
    "from torch.utils.data import Dataset\n",
    "from torch.utils.data import DataLoader\n",
    "import pytorch_warmup as warmup\n",
    "\n",
    "from IPython.display import clear_output\n",
    "from matplotlib.ticker import MaxNLocator"
   ],
   "metadata": {
    "id": "H6AfDFx8Qo1o",
    "execution": {
     "iopub.status.busy": "2024-07-24T11:09:08.014216Z",
     "iopub.execute_input": "2024-07-24T11:09:08.014645Z",
     "iopub.status.idle": "2024-07-24T11:09:33.012970Z",
     "shell.execute_reply.started": "2024-07-24T11:09:08.014607Z",
     "shell.execute_reply": "2024-07-24T11:09:33.012132Z"
    },
    "trusted": true,
    "pycharm": {
     "name": "#%%\n"
    }
   },
   "execution_count": 1,
   "outputs": []
  },
  {
   "cell_type": "code",
   "source": [
    "SEED = 10\n",
    "random.seed(SEED)\n",
    "np.random.seed(SEED)\n",
    "torch.random.manual_seed(SEED)\n",
    "torch.cuda.random.manual_seed_all(SEED)"
   ],
   "metadata": {
    "id": "c_QBe0WvoJSZ",
    "execution": {
     "iopub.status.busy": "2024-07-24T11:09:33.014902Z",
     "iopub.execute_input": "2024-07-24T11:09:33.015772Z",
     "iopub.status.idle": "2024-07-24T11:09:33.023938Z",
     "shell.execute_reply.started": "2024-07-24T11:09:33.015736Z",
     "shell.execute_reply": "2024-07-24T11:09:33.023107Z"
    },
    "trusted": true,
    "pycharm": {
     "name": "#%%\n"
    }
   },
   "execution_count": 2,
   "outputs": []
  },
  {
   "cell_type": "code",
   "source": [
    "def get_computing_device():\n",
    "    if torch.cuda.is_available():\n",
    "        device = torch.device('cuda:0')\n",
    "    else:\n",
    "        device = torch.device('cpu')\n",
    "    return device\n",
    "\n",
    "device = get_computing_device()\n",
    "print(f\"Our main computing device is '{device}'\")"
   ],
   "metadata": {
    "id": "PuBpw753oLSt",
    "execution": {
     "iopub.status.busy": "2024-07-24T11:09:33.025123Z",
     "iopub.execute_input": "2024-07-24T11:09:33.026009Z",
     "iopub.status.idle": "2024-07-24T11:09:33.059869Z",
     "shell.execute_reply.started": "2024-07-24T11:09:33.025973Z",
     "shell.execute_reply": "2024-07-24T11:09:33.059045Z"
    },
    "trusted": true,
    "pycharm": {
     "name": "#%%\n"
    }
   },
   "execution_count": 3,
   "outputs": [
    {
     "name": "stdout",
     "output_type": "stream",
     "text": [
      "Our main computing device is 'cuda:0'\n"
     ]
    }
   ]
  },
  {
   "cell_type": "markdown",
   "source": [
    "# Load and preprocess data"
   ],
   "metadata": {
    "id": "Fb8MH7KkpD2Y",
    "pycharm": {
     "name": "#%% md\n"
    }
   }
  },
  {
   "cell_type": "code",
   "source": [
    "data = pd.read_csv('ner.csv')"
   ],
   "metadata": {
    "id": "CDqeb8azHafg",
    "execution": {
     "iopub.status.busy": "2024-07-24T11:09:33.062029Z",
     "iopub.execute_input": "2024-07-24T11:09:33.062318Z",
     "iopub.status.idle": "2024-07-24T11:09:37.104741Z",
     "shell.execute_reply.started": "2024-07-24T11:09:33.062293Z",
     "shell.execute_reply": "2024-07-24T11:09:37.103802Z"
    },
    "trusted": true,
    "pycharm": {
     "name": "#%%\n"
    }
   },
   "execution_count": 4,
   "outputs": []
  },
  {
   "cell_type": "code",
   "source": [
    "data"
   ],
   "metadata": {
    "id": "NwoU2MDZOOjF",
    "execution": {
     "iopub.status.busy": "2024-07-24T11:09:37.106126Z",
     "iopub.execute_input": "2024-07-24T11:09:37.106499Z",
     "iopub.status.idle": "2024-07-24T11:09:37.127595Z",
     "shell.execute_reply.started": "2024-07-24T11:09:37.106467Z",
     "shell.execute_reply": "2024-07-24T11:09:37.126780Z"
    },
    "trusted": true,
    "pycharm": {
     "name": "#%%\n"
    }
   },
   "execution_count": 5,
   "outputs": [
    {
     "data": {
      "text/plain": "                                                    text  \\\n0      Thousands of demonstrators have marched throug...   \n1      Iranian officials say they expect to get acces...   \n2      Helicopter gunships Saturday pounded militant ...   \n3      They left after a tense hour-long standoff wit...   \n4      U.N. relief coordinator Jan Egeland said Sunda...   \n...                                                  ...   \n47954  Opposition leader Mir Hossein Mousavi has said...   \n47955  On Thursday , Iranian state media published a ...   \n47956  Following Iran 's disputed June 12 elections ,...   \n47957  Since then , authorities have held public tria...   \n47958  The United Nations is praising the use of mili...   \n\n                                                  labels  \n0      O O O O O O B-geo O O O O O B-geo O O O O O B-...  \n1      B-gpe O O O O O O O O O O O O O O B-tim O O O ...  \n2      O O B-tim O O O O O B-geo O O O O O B-org O O ...  \n3                                  O O O O O O O O O O O  \n4      B-geo O O B-per I-per O B-tim O B-geo O B-gpe ...  \n...                                                  ...  \n47954  O O O B-per I-per O O O O O O O O O O O O O O ...  \n47955  O B-tim O B-gpe O O O O O O O O B-org I-org O ...  \n47956  O B-geo O O B-tim I-tim O O O O O O O O O O O ...  \n47957          O O O O O O O O O O O O O O O O O O O O O  \n47958  O B-org I-org O O O O O O O O O O O O O O B-ti...  \n\n[47959 rows x 2 columns]",
      "text/html": "<div>\n<style scoped>\n    .dataframe tbody tr th:only-of-type {\n        vertical-align: middle;\n    }\n\n    .dataframe tbody tr th {\n        vertical-align: top;\n    }\n\n    .dataframe thead th {\n        text-align: right;\n    }\n</style>\n<table border=\"1\" class=\"dataframe\">\n  <thead>\n    <tr style=\"text-align: right;\">\n      <th></th>\n      <th>text</th>\n      <th>labels</th>\n    </tr>\n  </thead>\n  <tbody>\n    <tr>\n      <th>0</th>\n      <td>Thousands of demonstrators have marched throug...</td>\n      <td>O O O O O O B-geo O O O O O B-geo O O O O O B-...</td>\n    </tr>\n    <tr>\n      <th>1</th>\n      <td>Iranian officials say they expect to get acces...</td>\n      <td>B-gpe O O O O O O O O O O O O O O B-tim O O O ...</td>\n    </tr>\n    <tr>\n      <th>2</th>\n      <td>Helicopter gunships Saturday pounded militant ...</td>\n      <td>O O B-tim O O O O O B-geo O O O O O B-org O O ...</td>\n    </tr>\n    <tr>\n      <th>3</th>\n      <td>They left after a tense hour-long standoff wit...</td>\n      <td>O O O O O O O O O O O</td>\n    </tr>\n    <tr>\n      <th>4</th>\n      <td>U.N. relief coordinator Jan Egeland said Sunda...</td>\n      <td>B-geo O O B-per I-per O B-tim O B-geo O B-gpe ...</td>\n    </tr>\n    <tr>\n      <th>...</th>\n      <td>...</td>\n      <td>...</td>\n    </tr>\n    <tr>\n      <th>47954</th>\n      <td>Opposition leader Mir Hossein Mousavi has said...</td>\n      <td>O O O B-per I-per O O O O O O O O O O O O O O ...</td>\n    </tr>\n    <tr>\n      <th>47955</th>\n      <td>On Thursday , Iranian state media published a ...</td>\n      <td>O B-tim O B-gpe O O O O O O O O B-org I-org O ...</td>\n    </tr>\n    <tr>\n      <th>47956</th>\n      <td>Following Iran 's disputed June 12 elections ,...</td>\n      <td>O B-geo O O B-tim I-tim O O O O O O O O O O O ...</td>\n    </tr>\n    <tr>\n      <th>47957</th>\n      <td>Since then , authorities have held public tria...</td>\n      <td>O O O O O O O O O O O O O O O O O O O O O</td>\n    </tr>\n    <tr>\n      <th>47958</th>\n      <td>The United Nations is praising the use of mili...</td>\n      <td>O B-org I-org O O O O O O O O O O O O O O B-ti...</td>\n    </tr>\n  </tbody>\n</table>\n<p>47959 rows × 2 columns</p>\n</div>"
     },
     "execution_count": 5,
     "metadata": {},
     "output_type": "execute_result"
    }
   ]
  },
  {
   "cell_type": "code",
   "source": [
    "def preproc_df(df):\n",
    "  new_df = df.copy()\n",
    "  new_df['labels'] = df['labels'].apply(lambda x: x.split())\n",
    "  labels = np.concatenate(new_df['labels'].to_numpy())\n",
    "  unique_labels = np.unique(labels)\n",
    "  unique_labels = {label: i for i, label in enumerate(unique_labels)}\n",
    "  new_df['labels'] = new_df['labels'].apply(lambda x: np.vectorize(unique_labels.get)(x))\n",
    "  new_df['text'] = new_df['text'].apply(lambda x: x.split())\n",
    "  return new_df, unique_labels"
   ],
   "metadata": {
    "id": "jamIhJxxTyw8",
    "execution": {
     "iopub.status.busy": "2024-07-24T11:09:37.128605Z",
     "iopub.execute_input": "2024-07-24T11:09:37.128876Z",
     "iopub.status.idle": "2024-07-24T11:09:37.135142Z",
     "shell.execute_reply.started": "2024-07-24T11:09:37.128853Z",
     "shell.execute_reply": "2024-07-24T11:09:37.134145Z"
    },
    "trusted": true,
    "pycharm": {
     "name": "#%%\n"
    }
   },
   "execution_count": 6,
   "outputs": []
  },
  {
   "cell_type": "code",
   "source": [
    "new_data, labels = preproc_df(data)"
   ],
   "metadata": {
    "id": "WO41djQsTz4u",
    "execution": {
     "iopub.status.busy": "2024-07-24T11:09:37.136287Z",
     "iopub.execute_input": "2024-07-24T11:09:37.136560Z",
     "iopub.status.idle": "2024-07-24T11:09:39.448814Z",
     "shell.execute_reply.started": "2024-07-24T11:09:37.136537Z",
     "shell.execute_reply": "2024-07-24T11:09:39.448037Z"
    },
    "trusted": true,
    "pycharm": {
     "name": "#%%\n"
    }
   },
   "execution_count": 7,
   "outputs": []
  },
  {
   "cell_type": "code",
   "source": [
    "# Not all examples have the same text and label sizes\n",
    "lengths_labels = np.vectorize(len)(new_data['labels'])\n",
    "lengths_text = np.vectorize(len)(new_data['text'])\n",
    "raws_to_drop = np.where(lengths_labels != lengths_text)[0]\n",
    "new_data = new_data.drop(raws_to_drop)\n",
    "\n",
    "print(\"Number of rows thrown out: \", len(raws_to_drop))"
   ],
   "metadata": {
    "id": "rQazwI-SmWDE",
    "execution": {
     "iopub.status.busy": "2024-07-24T11:09:39.449942Z",
     "iopub.execute_input": "2024-07-24T11:09:39.450232Z",
     "iopub.status.idle": "2024-07-24T11:09:39.486325Z",
     "shell.execute_reply.started": "2024-07-24T11:09:39.450207Z",
     "shell.execute_reply": "2024-07-24T11:09:39.485272Z"
    },
    "trusted": true,
    "pycharm": {
     "name": "#%%\n"
    }
   },
   "execution_count": 8,
   "outputs": [
    {
     "name": "stdout",
     "output_type": "stream",
     "text": [
      "Number of rows thrown out:  13\n"
     ]
    }
   ]
  },
  {
   "cell_type": "code",
   "source": [
    "train_data, test_data = train_test_split(new_data, test_size=0.1)\n",
    "\n",
    "train_data = train_data.reset_index().drop(['index'], axis=1)\n",
    "test_data = test_data.reset_index().drop(['index'], axis=1)"
   ],
   "metadata": {
    "id": "T9hW9lkIaXFq",
    "execution": {
     "iopub.status.busy": "2024-07-24T11:09:39.487297Z",
     "iopub.execute_input": "2024-07-24T11:09:39.487574Z",
     "iopub.status.idle": "2024-07-24T11:09:39.512823Z",
     "shell.execute_reply.started": "2024-07-24T11:09:39.487517Z",
     "shell.execute_reply": "2024-07-24T11:09:39.512128Z"
    },
    "trusted": true,
    "pycharm": {
     "name": "#%%\n"
    }
   },
   "execution_count": 9,
   "outputs": []
  },
  {
   "cell_type": "code",
   "source": [
    "lengths_labels_train = np.vectorize(len)(new_data['labels'])"
   ],
   "metadata": {
    "id": "Ya7vF0MfnqCe",
    "execution": {
     "iopub.status.busy": "2024-07-24T11:09:39.516272Z",
     "iopub.execute_input": "2024-07-24T11:09:39.516555Z",
     "iopub.status.idle": "2024-07-24T11:09:39.729314Z",
     "shell.execute_reply.started": "2024-07-24T11:09:39.516524Z",
     "shell.execute_reply": "2024-07-24T11:09:39.728333Z"
    },
    "trusted": true,
    "pycharm": {
     "name": "#%%\n"
    }
   },
   "execution_count": 10,
   "outputs": []
  },
  {
   "cell_type": "code",
   "source": [
    "\"\"\"\n",
    "According to the histogram, most examples have text lengths between 10 and 40 tokens.\n",
    "This means that in most cases the instances in a batch will have approximately the same length.\n",
    "If it had a large variation in length (for example, 10 and 100), then many paddings would\n",
    "have to be added to the instances in the package, and this would lead to an increase in training time.\n",
    "\"\"\"\n",
    "\n",
    "plt.hist(lengths_labels_train)"
   ],
   "metadata": {
    "id": "HRQOLVJanxov",
    "execution": {
     "iopub.status.busy": "2024-07-24T11:09:39.730461Z",
     "iopub.execute_input": "2024-07-24T11:09:39.730727Z",
     "iopub.status.idle": "2024-07-24T11:09:40.024496Z",
     "shell.execute_reply.started": "2024-07-24T11:09:39.730704Z",
     "shell.execute_reply": "2024-07-24T11:09:40.023559Z"
    },
    "trusted": true,
    "pycharm": {
     "name": "#%%\n"
    }
   },
   "execution_count": 11,
   "outputs": [
    {
     "data": {
      "text/plain": "(array([4.4110e+03, 1.9670e+04, 1.8512e+04, 4.8480e+03, 4.3200e+02,\n        5.9000e+01, 1.2000e+01, 1.0000e+00, 0.0000e+00, 1.0000e+00]),\n array([  1. ,  11.3,  21.6,  31.9,  42.2,  52.5,  62.8,  73.1,  83.4,\n         93.7, 104. ]),\n <BarContainer object of 10 artists>)"
     },
     "execution_count": 11,
     "metadata": {},
     "output_type": "execute_result"
    },
    {
     "data": {
      "text/plain": "<Figure size 640x480 with 1 Axes>",
      "image/png": "[encoded data removed]"
     },
     "metadata": {},
     "output_type": "display_data"
    }
   ]
  },
  {
   "cell_type": "code",
   "source": [
    "def count_labels(data):\n",
    "\n",
    "  all_labels = np.concatenate(data['labels'].to_numpy())\n",
    "  unique_labels = np.unique(all_labels, return_counts=True)\n",
    "\n",
    "  return {label: count for label, count in zip(unique_labels[0], unique_labels[1])}"
   ],
   "metadata": {
    "id": "w6Uw6zEzOWza",
    "execution": {
     "iopub.status.busy": "2024-07-24T11:09:40.025743Z",
     "iopub.execute_input": "2024-07-24T11:09:40.026124Z",
     "iopub.status.idle": "2024-07-24T11:09:40.032133Z",
     "shell.execute_reply.started": "2024-07-24T11:09:40.026088Z",
     "shell.execute_reply": "2024-07-24T11:09:40.031083Z"
    },
    "trusted": true,
    "pycharm": {
     "name": "#%%\n"
    }
   },
   "execution_count": 12,
   "outputs": []
  },
  {
   "cell_type": "code",
   "source": [
    "train_labels_count = count_labels(train_data)"
   ],
   "metadata": {
    "id": "3ejh43z8VVIP",
    "execution": {
     "iopub.status.busy": "2024-07-24T11:09:40.033330Z",
     "iopub.execute_input": "2024-07-24T11:09:40.033609Z",
     "iopub.status.idle": "2024-07-24T11:09:40.084173Z",
     "shell.execute_reply.started": "2024-07-24T11:09:40.033587Z",
     "shell.execute_reply": "2024-07-24T11:09:40.083389Z"
    },
    "trusted": true,
    "pycharm": {
     "name": "#%%\n"
    }
   },
   "execution_count": 13,
   "outputs": []
  },
  {
   "cell_type": "code",
   "source": [
    "labels, train_labels_count"
   ],
   "metadata": {
    "id": "Yo4DzH0qW9Qf",
    "execution": {
     "iopub.status.busy": "2024-07-24T11:09:40.085316Z",
     "iopub.execute_input": "2024-07-24T11:09:40.085609Z",
     "iopub.status.idle": "2024-07-24T11:09:40.092732Z",
     "shell.execute_reply.started": "2024-07-24T11:09:40.085583Z",
     "shell.execute_reply": "2024-07-24T11:09:40.091785Z"
    },
    "trusted": true,
    "pycharm": {
     "name": "#%%\n"
    }
   },
   "execution_count": 14,
   "outputs": [
    {
     "data": {
      "text/plain": "({'B-art': 0,\n  'B-eve': 1,\n  'B-geo': 2,\n  'B-gpe': 3,\n  'B-nat': 4,\n  'B-org': 5,\n  'B-per': 6,\n  'B-tim': 7,\n  'I-art': 8,\n  'I-eve': 9,\n  'I-geo': 10,\n  'I-gpe': 11,\n  'I-nat': 12,\n  'I-org': 13,\n  'I-per': 14,\n  'I-tim': 15,\n  'O': 16},\n {0: 372,\n  1: 274,\n  2: 33847,\n  3: 14295,\n  4: 181,\n  5: 18125,\n  6: 15284,\n  7: 18264,\n  8: 272,\n  9: 222,\n  10: 6655,\n  11: 185,\n  12: 46,\n  13: 15079,\n  14: 15548,\n  15: 5839,\n  16: 798465})"
     },
     "execution_count": 14,
     "metadata": {},
     "output_type": "execute_result"
    }
   ]
  },
  {
   "cell_type": "code",
   "source": [
    "\"\"\"\n",
    "We observe a class imbalance\n",
    "\"\"\"\n",
    "\n",
    "plt.subplots(figsize=(18,5))\n",
    "plt.bar(list(labels.keys())[:-1], list(train_labels_count.values())[:-1])\n",
    "plt.legend([\"Train class distribution (wo O)\"], fontsize = 16)\n",
    "plt.xlabel(\"Class\", fontsize=16)\n",
    "plt.ylabel(\"Count\", fontsize=16)\n",
    "plt.show()"
   ],
   "metadata": {
    "id": "scAOpE1bYR7T",
    "execution": {
     "iopub.status.busy": "2024-07-24T11:09:40.094000Z",
     "iopub.execute_input": "2024-07-24T11:09:40.094690Z",
     "iopub.status.idle": "2024-07-24T11:09:40.431845Z",
     "shell.execute_reply.started": "2024-07-24T11:09:40.094657Z",
     "shell.execute_reply": "2024-07-24T11:09:40.430939Z"
    },
    "trusted": true,
    "pycharm": {
     "name": "#%%\n"
    }
   },
   "execution_count": 15,
   "outputs": [
    {
     "data": {
      "text/plain": "<Figure size 1800x500 with 1 Axes>",
      "image/png": "[encoded data removed]"
     },
     "metadata": {},
     "output_type": "display_data"
    }
   ]
  },
  {
   "cell_type": "markdown",
   "source": [
    "# Word embeddings"
   ],
   "metadata": {
    "collapsed": false,
    "pycharm": {
     "name": "#%% md\n"
    }
   }
  },
  {
   "cell_type": "code",
   "execution_count": 16,
   "outputs": [
    {
     "name": "stderr",
     "output_type": "stream",
     "text": [
      "C:\\Users\\iva52\\AppData\\Local\\Temp\\ipykernel_4832\\3862662545.py:1: DeprecationWarning: Call to deprecated `load_fasttext_format` (use load_facebook_vectors (to use pretrained embeddings) or load_facebook_model (to continue training with the loaded full model, more RAM) instead).\n",
      "  ft_model = FastText.load_fasttext_format('wiki.simple.bin')\n"
     ]
    }
   ],
   "source": [
    "ft_model = FastText.load_fasttext_format('wiki.simple.bin')\n",
    "fasttext_wv = ft_model.wv"
   ],
   "metadata": {
    "collapsed": false,
    "pycharm": {
     "name": "#%%\n"
    }
   }
  },
  {
   "cell_type": "code",
   "execution_count": 17,
   "outputs": [],
   "source": [
    "def add_embeddings(df, word_emb_model):\n",
    "  new_df = df.copy()\n",
    "  word_embs = np.frompyfunc(lambda x: word_emb_model[x],1, 1)(df['text'])\n",
    "  new_df['embeddings'] = word_embs\n",
    "  return new_df"
   ],
   "metadata": {
    "collapsed": false,
    "pycharm": {
     "name": "#%%\n"
    }
   }
  },
  {
   "cell_type": "code",
   "execution_count": 18,
   "outputs": [],
   "source": [
    "word_embs_size = fasttext_wv.vector_size"
   ],
   "metadata": {
    "collapsed": false,
    "pycharm": {
     "name": "#%%\n"
    }
   }
  },
  {
   "cell_type": "code",
   "execution_count": 19,
   "outputs": [],
   "source": [
    "train_data = add_embeddings(train_data, fasttext_wv)\n",
    "test_data = add_embeddings(test_data, fasttext_wv)"
   ],
   "metadata": {
    "collapsed": false,
    "pycharm": {
     "name": "#%%\n"
    }
   }
  },
  {
   "cell_type": "markdown",
   "source": [
    "# Create Dataset"
   ],
   "metadata": {
    "collapsed": false,
    "pycharm": {
     "name": "#%% md\n"
    }
   }
  },
  {
   "cell_type": "code",
   "execution_count": 20,
   "outputs": [],
   "source": [
    "class NERDataset(Dataset):\n",
    "  def __init__(self, df):\n",
    "    super().__init__()\n",
    "    self.df = df\n",
    "\n",
    "  def __getitem__(self, index):\n",
    "\n",
    "    embs = self.df['embeddings'][index]\n",
    "    labels = self.df['labels'][index]\n",
    "\n",
    "    embs = torch.tensor(embs)\n",
    "    labels = torch.tensor(labels)\n",
    "\n",
    "    return embs, labels\n",
    "\n",
    "  def __len__(self):\n",
    "    return len(self.df)"
   ],
   "metadata": {
    "collapsed": false,
    "pycharm": {
     "name": "#%%\n"
    }
   }
  },
  {
   "cell_type": "code",
   "execution_count": 21,
   "outputs": [],
   "source": [
    "train_dataset = NERDataset(train_data)\n",
    "test_dataset = NERDataset(test_data)"
   ],
   "metadata": {
    "collapsed": false,
    "pycharm": {
     "name": "#%%\n"
    }
   }
  },
  {
   "cell_type": "code",
   "execution_count": 22,
   "outputs": [],
   "source": [
    "pad_class = max(labels.values()) + 1\n",
    "num_classes = len(labels) + 1"
   ],
   "metadata": {
    "collapsed": false,
    "pycharm": {
     "name": "#%%\n"
    }
   }
  },
  {
   "cell_type": "code",
   "execution_count": 23,
   "outputs": [],
   "source": [
    "def collate_fn(batch):\n",
    "  embs = [pair[0] for pair in batch]\n",
    "  target = [pair[1] for pair in batch]\n",
    "  all_lengths = np.vectorize(len)(np.array(target, dtype = object))\n",
    "  max_length = all_lengths.max()\n",
    "  pad_lengths = max_length - all_lengths\n",
    "\n",
    "  pad_embs = torch.zeros(embs[0].shape[-1])\n",
    "  embs = [torch.cat((exmp, pad_embs.repeat(pad_lengths[i], 1))) for i, exmp in enumerate(embs)]\n",
    "  embs = torch.stack(embs)\n",
    "\n",
    "  pad_target = torch.tensor(pad_class)\n",
    "  target = [torch.cat((exmp, pad_target.repeat(pad_lengths[i]))) for i, exmp in enumerate(target)]\n",
    "  target = torch.stack(target)\n",
    "\n",
    "  return embs.to(device), target.to(device)"
   ],
   "metadata": {
    "collapsed": false,
    "pycharm": {
     "name": "#%%\n"
    }
   }
  },
  {
   "cell_type": "code",
   "execution_count": 24,
   "outputs": [],
   "source": [
    "batch_size = 8\n",
    "\n",
    "train_dataloader = DataLoader(train_dataset, batch_size = batch_size, shuffle = True, collate_fn = collate_fn)\n",
    "test_dataloader = DataLoader(test_dataset, batch_size = batch_size, shuffle = False, collate_fn = collate_fn)"
   ],
   "metadata": {
    "collapsed": false,
    "pycharm": {
     "name": "#%%\n"
    }
   }
  },
  {
   "cell_type": "markdown",
   "source": [
    "# Loss and metrics"
   ],
   "metadata": {
    "collapsed": false,
    "pycharm": {
     "name": "#%% md\n"
    }
   }
  },
  {
   "cell_type": "code",
   "execution_count": 25,
   "outputs": [],
   "source": [
    "def compute_class_weight(y):\n",
    "  return len(y) / (len(np.unique(y)) * np.bincount(y))"
   ],
   "metadata": {
    "collapsed": false,
    "pycharm": {
     "name": "#%%\n"
    }
   }
  },
  {
   "cell_type": "code",
   "execution_count": 26,
   "outputs": [],
   "source": [
    "def CE_batch(pred, target, weight = None, ignore_index = -100):\n",
    "  batch_size = target.shape[0]\n",
    "  one_hot_target = F.one_hot(target, num_classes=pred.shape[-1])\n",
    "\n",
    "  softmax = torch.exp(pred)\n",
    "  softmax = softmax / torch.sum(softmax, dim = -1).unsqueeze(-1)\n",
    "  loss = -torch.log(softmax) * one_hot_target\n",
    "\n",
    "  if weight is not None:\n",
    "    loss *= weight\n",
    "  loss = loss.sum(-1)\n",
    "\n",
    "  drop_loss = (target == ignore_index)\n",
    "  seq_lengths = torch.logical_not(drop_loss).sum(dim = -1)\n",
    "  loss[drop_loss] = 0\n",
    "\n",
    "  if weight is not None:\n",
    "    sum_weights = weight[target]\n",
    "    sum_weights[target == ignore_index] = 0\n",
    "    loss = loss.sum(dim = -1) / sum_weights.sum(-1)\n",
    "  else:\n",
    "    loss = loss.sum(dim = -1) /  seq_lengths\n",
    "\n",
    "  return loss.sum()/batch_size"
   ],
   "metadata": {
    "collapsed": false,
    "pycharm": {
     "name": "#%%\n"
    }
   }
  },
  {
   "cell_type": "code",
   "execution_count": 27,
   "outputs": [],
   "source": [
    "def delete_paddings_and_flatten(pred, target, pad):\n",
    "  mask = (target != pad)\n",
    "  new_target = torch.masked_select(target, mask)\n",
    "  new_pred = torch.masked_select(pred, mask)\n",
    "\n",
    "  return new_pred, new_target"
   ],
   "metadata": {
    "collapsed": false,
    "pycharm": {
     "name": "#%%\n"
    }
   }
  },
  {
   "cell_type": "code",
   "execution_count": 28,
   "outputs": [],
   "source": [
    "def f1_score_macro(pred, target):\n",
    "  classes = torch.unique(torch.cat((pred, target)))\n",
    "\n",
    "  pred_mask = (pred == classes.unsqueeze(1))\n",
    "  target_mask = (target == classes.unsqueeze(1))\n",
    "\n",
    "  tp = torch.logical_and(pred_mask, target_mask).sum(dim=-1)\n",
    "  tp_plus_fp = pred_mask.sum(dim=-1)\n",
    "  tp_plus_fn = target_mask.sum(dim=-1)\n",
    "  precision = tp / tp_plus_fp\n",
    "  recall = tp / tp_plus_fn\n",
    "  f1_score = torch.nan_to_num(2 * precision * recall / (precision + recall))\n",
    "\n",
    "  return f1_score.sum()/len(classes)"
   ],
   "metadata": {
    "collapsed": false,
    "pycharm": {
     "name": "#%%\n"
    }
   }
  },
  {
   "cell_type": "markdown",
   "source": [
    "# LSTM"
   ],
   "metadata": {
    "collapsed": false,
    "pycharm": {
     "name": "#%% md\n"
    }
   }
  },
  {
   "cell_type": "code",
   "execution_count": 29,
   "outputs": [],
   "source": [
    "class LSTMblock(nn.Module):\n",
    "  def __init__(self, input_size, hidden_size):\n",
    "    super().__init__()\n",
    "    \n",
    "    self.hidden_size = hidden_size\n",
    "    self.sigmoid = nn.Sigmoid()\n",
    "    self.tanh = nn.Tanh()\n",
    "\n",
    "    self.linear_ih = nn.Linear(input_size, 4 * hidden_size)\n",
    "    self.linear_hh = nn.Linear(hidden_size, 4 * hidden_size)\n",
    "\n",
    "  def forward(self, input, ht_minus_1, ct_minus_1):\n",
    "    \n",
    "    states_ih = self.linear_ih(input)\n",
    "    states_hh = self.linear_hh(ht_minus_1)\n",
    "    \n",
    "    states = states_ih + states_hh\n",
    "    \n",
    "    i, f, g, o = torch.split(states, self.hidden_size, dim=-1)    \n",
    "\n",
    "    i_state = self.sigmoid(i)\n",
    "    f_state = self.sigmoid(f)\n",
    "    g_state = self.tanh(g)\n",
    "    o_state = self.sigmoid(o)\n",
    "\n",
    "    ct = ct_minus_1 * i_state + f_state * g_state\n",
    "    ht = self.tanh(ct) * o_state\n",
    "\n",
    "    return ht, ct"
   ],
   "metadata": {
    "collapsed": false,
    "pycharm": {
     "name": "#%%\n"
    }
   }
  },
  {
   "cell_type": "code",
   "execution_count": 30,
   "outputs": [],
   "source": [
    "class BiLSTM(nn.Module):\n",
    "  def __init__(self, input_size, hidden_size, num_layers = 1, batch_first=False):\n",
    "    super().__init__()\n",
    "\n",
    "    self.input_size = input_size\n",
    "    self.hidden_size = hidden_size\n",
    "    self.batch_first = batch_first\n",
    "    self.num_layers = num_layers\n",
    "\n",
    "    self.lstm_blocks = nn.ModuleList(\n",
    "        [LSTMblock(input_size, hidden_size)] +\n",
    "        [LSTMblock(2*hidden_size, hidden_size) for _ in range(num_layers - 1)] +\n",
    "        [LSTMblock(input_size, hidden_size)] +\n",
    "        [LSTMblock(2*hidden_size, hidden_size) for _ in range(num_layers - 1)])\n",
    "\n",
    "  def forward(self, input, h0=None, c0=None):\n",
    "\n",
    "    if self.batch_first:\n",
    "      input = input.transpose(1, 0)\n",
    "\n",
    "    seq_len, batch_size = input.shape[0:2]\n",
    "    num_layers = self.num_layers\n",
    "    hidden_size = self.hidden_size\n",
    "    device = next(self.parameters()).device\n",
    "    \n",
    "    ht_minus_1 = torch.zeros(batch_size, hidden_size, device=device)\n",
    "    ct_minus_1 = torch.zeros(batch_size, hidden_size, device=device)\n",
    "\n",
    "    for i in range(num_layers):\n",
    "      ht_forward = []\n",
    "      for j in range(seq_len):\n",
    "        ht, ct = self.lstm_blocks[i](input[j], ht_minus_1, ct_minus_1)\n",
    "\n",
    "        ht_forward.append(ht)\n",
    "        ht_minus_1 = ht\n",
    "        ct_minus_1 = ct\n",
    "\n",
    "      ht_backward = []\n",
    "      ht_minus_1.zero_()\n",
    "      ct_minus_1.zero_()\n",
    "      \n",
    "      for j in range(-1, -seq_len-1, -1):\n",
    "        ht, ct = self.lstm_blocks[i + num_layers](input[j], ht_minus_1, ct_minus_1)\n",
    "\n",
    "        ht_backward.append(ht)\n",
    "        ht_minus_1 = ht\n",
    "        ct_minus_1 = ct\n",
    "        \n",
    "      ht_minus_1.zero_()\n",
    "      ct_minus_1.zero_()\n",
    "\n",
    "      ht_forward = torch.stack(ht_forward)\n",
    "      ht_backward = torch.flip(torch.stack(ht_backward), dims=(0,))\n",
    "\n",
    "      input = torch.cat((ht_forward, ht_backward), dim=-1)\n",
    "\n",
    "    outputs = input \n",
    "    \n",
    "    if self.batch_first:\n",
    "      outputs = outputs.transpose(1, 0)\n",
    "\n",
    "    return outputs"
   ],
   "metadata": {
    "collapsed": false,
    "pycharm": {
     "name": "#%%\n"
    }
   }
  },
  {
   "cell_type": "code",
   "execution_count": 31,
   "outputs": [],
   "source": [
    "class LSTMNer(nn.Module):\n",
    "  def __init__(self, lstm, hidden_size, num_classes):\n",
    "    super().__init__()\n",
    "\n",
    "    self.lstm = lstm\n",
    "    self.linear = nn.Linear(hidden_size, num_classes)\n",
    "\n",
    "  def forward(self, input):\n",
    "\n",
    "    res = self.lstm(input)\n",
    "    res = self.linear(res)\n",
    "\n",
    "    return res"
   ],
   "metadata": {
    "collapsed": false,
    "pycharm": {
     "name": "#%%\n"
    }
   }
  },
  {
   "cell_type": "code",
   "execution_count": 32,
   "outputs": [],
   "source": [
    "input_size = word_embs_size\n",
    "hidden_size = 768\n",
    "\n",
    "lstm = BiLSTM(input_size, hidden_size, num_layers=2, batch_first=True).to(device)\n",
    "model = LSTMNer(lstm, 2*hidden_size, num_classes).to(device)"
   ],
   "metadata": {
    "collapsed": false,
    "pycharm": {
     "name": "#%%\n"
    }
   }
  },
  {
   "cell_type": "markdown",
   "source": [
    "# Train and eval"
   ],
   "metadata": {
    "collapsed": false,
    "pycharm": {
     "name": "#%% md\n"
    }
   }
  },
  {
   "cell_type": "code",
   "execution_count": 33,
   "outputs": [
    {
     "name": "stdout",
     "output_type": "stream",
     "text": [
      "Total trainable params:  20769810\n"
     ]
    }
   ],
   "source": [
    "optimizer = torch.optim.Adam(model.parameters(), lr = 0.001)\n",
    "class_weights = compute_class_weight(np.concatenate(train_data['labels'].to_numpy()))\n",
    "\n",
    "# add weight for pad class\n",
    "class_weights = torch.tensor(np.append(class_weights, 0), device = device)\n",
    "\n",
    "print(\"Total trainable params: \", sum(p.numel() for p in model.parameters() if p.requires_grad))"
   ],
   "metadata": {
    "collapsed": false,
    "pycharm": {
     "name": "#%%\n"
    }
   }
  },
  {
   "cell_type": "code",
   "execution_count": 34,
   "outputs": [],
   "source": [
    "def train(model, optimizer, dataloader):\n",
    "  total_loss = 0\n",
    "  total_score = 0\n",
    "\n",
    "  model.train(True)\n",
    "  for batch in tqdm(dataloader):\n",
    "    optimizer.zero_grad()\n",
    "\n",
    "    input = batch[0]\n",
    "    target = batch[1]\n",
    "\n",
    "    output = model(input)\n",
    "\n",
    "    loss = CE_batch(output, target, weight=class_weights)\n",
    "    loss.backward()\n",
    "    optimizer.step()\n",
    "    total_loss += loss.item()\n",
    "\n",
    "    pred = torch.argmax(output, dim=-1)\n",
    "    pred, target = delete_paddings_and_flatten(pred.cpu(), target.cpu(), pad_class)\n",
    "    total_score += f1_score_macro(pred, target).item()\n",
    "\n",
    "  return total_loss/len(dataloader), total_score/len(dataloader)"
   ],
   "metadata": {
    "collapsed": false,
    "pycharm": {
     "name": "#%%\n"
    }
   }
  },
  {
   "cell_type": "code",
   "execution_count": 35,
   "outputs": [],
   "source": [
    "def eval(model, dataloader):\n",
    "  total_loss = 0\n",
    "  total_score = 0\n",
    "\n",
    "  model.eval()\n",
    "  with torch.no_grad():\n",
    "    for batch in tqdm(dataloader):\n",
    "      input = batch[0]\n",
    "      target = batch[1]\n",
    "      output = model(input)\n",
    "\n",
    "      loss = CE_batch(output, target, weight=class_weights)\n",
    "      total_loss += loss.item()\n",
    "\n",
    "      pred = torch.argmax(output, dim=-1)\n",
    "      pred, target = delete_paddings_and_flatten(pred.cpu(), target.cpu(), pad_class)\n",
    "      total_score += f1_score_macro(pred, target).item()\n",
    "\n",
    "  return total_loss/len(dataloader), total_score/len(dataloader)"
   ],
   "metadata": {
    "collapsed": false,
    "pycharm": {
     "name": "#%%\n"
    }
   }
  },
  {
   "cell_type": "code",
   "execution_count": 36,
   "outputs": [
    {
     "name": "stderr",
     "output_type": "stream",
     "text": [
      "100%|██████████| 5394/5394 [03:57<00:00, 22.70it/s]\n",
      "100%|██████████| 600/600 [00:26<00:00, 22.81it/s]\n"
     ]
    }
   ],
   "source": [
    "train_loss, train_score = eval(model, train_dataloader)\n",
    "test_loss, test_score = eval(model, test_dataloader)\n",
    "\n",
    "loss_history_train = [train_loss]\n",
    "loss_history_test = [test_loss]\n",
    "score_history_train = [round(train_score * 100, 2)]\n",
    "score_history_test = [round(test_score * 100, 2)]"
   ],
   "metadata": {
    "collapsed": false,
    "pycharm": {
     "name": "#%%\n"
    }
   }
  },
  {
   "cell_type": "markdown",
   "source": [],
   "metadata": {
    "collapsed": false,
    "pycharm": {
     "name": "#%% md\n"
    }
   }
  },
  {
   "cell_type": "code",
   "execution_count": 37,
   "outputs": [
    {
     "data": {
      "text/plain": "<Figure size 1600x900 with 2 Axes>",
      "image/png": "[encoded data removed]"
     },
     "metadata": {},
     "output_type": "display_data"
    }
   ],
   "source": [
    "num_epoch = 10\n",
    "\n",
    "for epoch in range(1, num_epoch + 1):\n",
    "  train_loss, train_score = train(model, optimizer, train_dataloader)\n",
    "  test_loss, test_score = eval(model, test_dataloader)\n",
    "\n",
    "  loss_history_train.append(train_loss)\n",
    "  loss_history_test.append(test_loss)\n",
    "\n",
    "  score_history_train.append(round(train_score * 100, 2))\n",
    "  score_history_test.append(round(test_score * 100, 2))\n",
    "\n",
    "  clear_output(True)\n",
    "  plt.figure(figsize=(16, 9))\n",
    "  plt.subplot(2, 2, 1)\n",
    "  plt.title(\"Loss history\")\n",
    "  plt.ylabel(\"loss\")\n",
    "  plt.xlabel(\"epoch\")\n",
    "  plt.plot(list(range(epoch+1)), loss_history_test, label = \"test\")\n",
    "  plt.plot(list(range(epoch+1)), loss_history_train, label = \"train\")\n",
    "  plt.gca().xaxis.set_major_locator(MaxNLocator(integer=True))\n",
    "  plt.legend()\n",
    "  plt.grid()\n",
    "\n",
    "  plt.subplot(2, 2, 2) \n",
    "  plt.title(\"f1 score history\")\n",
    "  plt.ylabel(\"f1 score(%)\")\n",
    "  plt.xlabel(\"epoch\")\n",
    "  plt.plot(list(range(epoch+1)), score_history_test, label = \"test\")\n",
    "  plt.plot(list(range(epoch+1)), score_history_train, label = \"train\")\n",
    "  plt.gca().xaxis.set_major_locator(MaxNLocator(integer=True))\n",
    "  plt.legend()\n",
    "  plt.grid()\n",
    "\n",
    "  plt.show()"
   ],
   "metadata": {
    "collapsed": false,
    "pycharm": {
     "name": "#%%\n"
    }
   }
  },
  {
   "cell_type": "code",
   "execution_count": 38,
   "outputs": [
    {
     "name": "stdout",
     "output_type": "stream",
     "text": [
      "Final test f1 score: 76.42%\n"
     ]
    }
   ],
   "source": [
    "print(f\"Final test f1 score: {round(test_score * 100, 2)}%\")"
   ],
   "metadata": {
    "collapsed": false,
    "pycharm": {
     "name": "#%%\n"
    }
   }
  },
  {
   "cell_type": "markdown",
   "source": [
    "# Add CRF layer"
   ],
   "metadata": {
    "collapsed": false,
    "pycharm": {
     "name": "#%% md\n"
    }
   }
  },
  {
   "cell_type": "code",
   "execution_count": 39,
   "outputs": [],
   "source": [
    "class CRF(nn.Module):\n",
    "  def __init__(self, num_labels):\n",
    "    super().__init__()\n",
    "    self.num_labels = num_labels + 2 # num labels + (START, END)\n",
    "    self.transition_scores = nn.Parameter(torch.empty(self.num_labels, self.num_labels))\n",
    "    nn.init.xavier_uniform_(self.transition_scores)\n",
    "    self.se_score = -1000\n",
    "\n",
    "  def __call__(self, x, y):\n",
    "    # x - BiLSTM outputs float[batch_size, seq_len, num_labels]\n",
    "    # y - targets int[batch_size, seq_len]\n",
    "\n",
    "    num_labels = self.num_labels\n",
    "    device = y.device\n",
    "\n",
    "    # Expand x and y with START and END\n",
    "    x = self.expand_input(x)\n",
    "\n",
    "    se_labels = torch.tensor([num_labels-1]).repeat(y.shape[0], 1).to(device)\n",
    "    y = torch.cat((se_labels - 1, y, se_labels), dim=-1)\n",
    "\n",
    "    # Compute real path scores\n",
    "    real_es = torch.gather(x, -1, y.unsqueeze(-1)).squeeze(-1).sum(-1) # Emission score [batch_size]\n",
    "    real_t = torch.stack((y[:, :-1], y[:, 1:]), dim=-1)\n",
    "    real_ts = self.transition_scores[real_t[:, :, 0], real_t[:, :, 1]].sum(-1) # Transition score [batch_size]\n",
    "    real_path_scores = real_es + real_ts\n",
    "\n",
    "    # Compute all paths scores\n",
    "    x = x.transpose(1, 0) # [seq_len, batch_size, num_labels]\n",
    "    previous = x[0] \n",
    "    seq_len = x.shape[0]\n",
    "    # loop over seq_len, last previous is all_paths_score\n",
    "    for i in range(1, seq_len):\n",
    "      prev =  previous.unsqueeze(-1)\n",
    "      obs = x[i].unsqueeze(-2)\n",
    "      scores = prev + obs + self.transition_scores # [batch_size, num_labels, num_labels]\n",
    "      scores = torch.logsumexp(scores, dim = -2) # [batch_size, num_labels]\n",
    "      previous = scores\n",
    "\n",
    "    loss = -real_path_scores + torch.logsumexp(previous, dim=-1)\n",
    "\n",
    "    return loss.sum()/loss.shape[0]\n",
    "\n",
    "  def expand_input(self, x):\n",
    "    num_labels = self.num_labels\n",
    "    se_score = self.se_score\n",
    "    device = x.device\n",
    "\n",
    "    se_scores = torch.tensor([se_score]).repeat(*x.shape[0:2], 1).to(device)\n",
    "    x = torch.cat((x, se_scores, se_scores), dim=-1)\n",
    "\n",
    "    start_scores = torch.full((x.shape[0], 1, x.shape[2]), se_score).to(device)\n",
    "    start_scores[:, :, num_labels - 2] = 0\n",
    "    end_scores = torch.full((x.shape[0], 1, x.shape[2]), se_score).to(device)\n",
    "    end_scores[:, :, num_labels - 1] = 0\n",
    "\n",
    "    x = torch.cat((start_scores, x, end_scores), dim = -2)\n",
    "\n",
    "    return x\n",
    "  \n",
    "  def predict(self, x):\n",
    "    x = self.expand_input(x)\n",
    "    x = x.transpose(1, 0) # [seq_len, batch_size, num_labels]\n",
    "    previous = x[0]\n",
    "\n",
    "    alpha = []\n",
    "\n",
    "    seq_len = x.shape[0] # [batch_size, num_labels]\n",
    "    for i in range(1, seq_len):\n",
    "      prev =  previous.unsqueeze(-1)\n",
    "      obs = x[i].unsqueeze(-2)\n",
    "      scores = prev + obs + self.transition_scores #[batch_size, num_labels, num_labels]\n",
    "\n",
    "      max_values = torch.max(scores, dim = -2)\n",
    "      previous = max_values.values\n",
    "      alpha.append(max_values.indices)\n",
    "    \n",
    "    alpha = torch.stack(alpha) #[seq_len - 1, batch_size, num_labels]\n",
    "    prev_label = previous.max(dim=-1).indices.unsqueeze(-1) #[batch_size, 1]\n",
    "    labels = prev_label \n",
    "\n",
    "    for i in alpha.flip(0):\n",
    "      prev_label = torch.gather(i, -1, prev_label)\n",
    "      labels = torch.cat((prev_label, labels), -1)\n",
    "\n",
    "    return labels[:, 1:-1]"
   ],
   "metadata": {
    "collapsed": false,
    "pycharm": {
     "name": "#%%\n"
    }
   }
  },
  {
   "cell_type": "code",
   "execution_count": 40,
   "outputs": [],
   "source": [
    "class NerBiLSTMCRF(nn.Module):\n",
    "  def __init__(self, bilstm, num_classes):\n",
    "    super().__init__()\n",
    "    self.bilstm = bilstm\n",
    "    self.crf_layer = CRF(num_classes)\n",
    "\n",
    "  def forward(self, input, target):\n",
    "    emission_scores = self.bilstm(input)\n",
    "    loss = self.crf_layer(emission_scores, target)\n",
    "    pred = self.crf_layer.predict(emission_scores)\n",
    "\n",
    "    return loss, pred"
   ],
   "metadata": {
    "collapsed": false,
    "pycharm": {
     "name": "#%%\n"
    }
   }
  },
  {
   "cell_type": "code",
   "execution_count": 41,
   "outputs": [],
   "source": [
    "crf_model = NerBiLSTMCRF(model, num_classes).to(device)\n",
    "optimizer = torch.optim.Adam(crf_model.parameters(), lr = 0.001)"
   ],
   "metadata": {
    "collapsed": false,
    "pycharm": {
     "name": "#%%\n"
    }
   }
  },
  {
   "cell_type": "code",
   "execution_count": 42,
   "outputs": [],
   "source": [
    "def crf_train(crf_model, optimizer, dataloader):\n",
    "  total_loss = 0\n",
    "  total_score = 0\n",
    "\n",
    "  crf_model.train(True)\n",
    "  for batch in tqdm(dataloader):\n",
    "    optimizer.zero_grad()\n",
    "\n",
    "    input = batch[0]\n",
    "    target = batch[1]\n",
    "\n",
    "    loss, pred = crf_model(input, target)\n",
    "    loss.backward()\n",
    "    optimizer.step()\n",
    "    total_loss += loss.item()\n",
    "\n",
    "    pred, target = delete_paddings_and_flatten(pred.cpu(), target.cpu(), pad_class)\n",
    "    total_score += f1_score_macro(pred, target).item()\n",
    "\n",
    "  return total_loss/len(dataloader), total_score/len(dataloader)"
   ],
   "metadata": {
    "collapsed": false,
    "pycharm": {
     "name": "#%%\n"
    }
   }
  },
  {
   "cell_type": "code",
   "execution_count": 43,
   "outputs": [],
   "source": [
    "def crf_eval(crf_model, dataloader):\n",
    "  total_loss = 0\n",
    "  total_score = 0\n",
    "\n",
    "  crf_model.eval()\n",
    "  with torch.no_grad():\n",
    "    for batch in tqdm(dataloader):\n",
    "      input = batch[0]\n",
    "      target = batch[1]\n",
    "      loss, pred = crf_model(input, target)\n",
    "      total_loss += loss.item()\n",
    "\n",
    "      pred, target = delete_paddings_and_flatten(pred.cpu(), target.cpu(), pad_class)\n",
    "      total_score += f1_score_macro(pred, target).item()\n",
    "\n",
    "  return total_loss/len(dataloader), total_score/len(dataloader)"
   ],
   "metadata": {
    "collapsed": false,
    "pycharm": {
     "name": "#%%\n"
    }
   }
  },
  {
   "cell_type": "code",
   "execution_count": 44,
   "outputs": [
    {
     "name": "stderr",
     "output_type": "stream",
     "text": [
      "100%|██████████| 5394/5394 [06:31<00:00, 13.77it/s]\n",
      "100%|██████████| 600/600 [00:41<00:00, 14.63it/s]\n"
     ]
    }
   ],
   "source": [
    "train_loss, train_score = crf_eval(crf_model, train_dataloader)\n",
    "test_loss, test_score = crf_eval(crf_model, test_dataloader)\n",
    "\n",
    "loss_history_train = [train_loss]\n",
    "loss_history_test = [test_loss]\n",
    "score_history_train = [round(train_score * 100, 2)]\n",
    "score_history_test = [round(test_score * 100, 2)]"
   ],
   "metadata": {
    "collapsed": false,
    "pycharm": {
     "name": "#%%\n"
    }
   }
  },
  {
   "cell_type": "code",
   "execution_count": 45,
   "outputs": [
    {
     "data": {
      "text/plain": "<Figure size 1600x900 with 2 Axes>",
      "image/png": "[encoded data removed]"
     },
     "metadata": {},
     "output_type": "display_data"
    }
   ],
   "source": [
    "num_epoch = 3\n",
    "\n",
    "for epoch in range(1, num_epoch + 1):\n",
    "  train_loss, train_score = crf_train(crf_model, optimizer, train_dataloader)\n",
    "  test_loss, test_score = crf_eval(crf_model, test_dataloader)\n",
    "\n",
    "  loss_history_train.append(train_loss)\n",
    "  loss_history_test.append(test_loss)\n",
    "\n",
    "  score_history_train.append(round(train_score * 100, 2))\n",
    "  score_history_test.append(round(test_score * 100, 2))\n",
    "\n",
    "  clear_output(True)\n",
    "  plt.figure(figsize=(16, 9))\n",
    "  plt.subplot(2, 2, 1)\n",
    "  plt.title(\"Loss history\")\n",
    "  plt.ylabel(\"loss\")\n",
    "  plt.xlabel(\"epoch\")\n",
    "  plt.plot(list(range(epoch+1)), loss_history_test, label = \"test\")\n",
    "  plt.plot(list(range(epoch+1)), loss_history_train, label = \"train\")\n",
    "  plt.gca().xaxis.set_major_locator(MaxNLocator(integer=True))\n",
    "  plt.legend()\n",
    "  plt.grid()\n",
    "\n",
    "  plt.subplot(2, 2, 2)\n",
    "  plt.title(\"f1 score history\")\n",
    "  plt.ylabel(\"f1 score(%)\")\n",
    "  plt.xlabel(\"epoch\")\n",
    "  plt.plot(list(range(epoch+1)), score_history_test, label = \"test\")\n",
    "  plt.plot(list(range(epoch+1)), score_history_train, label = \"train\")\n",
    "  plt.gca().xaxis.set_major_locator(MaxNLocator(integer=True))\n",
    "  plt.legend()\n",
    "  plt.grid()\n",
    "\n",
    "  plt.show()"
   ],
   "metadata": {
    "collapsed": false,
    "pycharm": {
     "name": "#%%\n"
    }
   }
  },
  {
   "cell_type": "code",
   "execution_count": 46,
   "outputs": [
    {
     "name": "stdout",
     "output_type": "stream",
     "text": [
      "Final test f1 score: 80.73%\n"
     ]
    }
   ],
   "source": [
    "print(f\"Final test f1 score: {round(test_score * 100, 2)}%\")"
   ],
   "metadata": {
    "collapsed": false,
    "pycharm": {
     "name": "#%%\n"
    }
   }
  },
  {
   "cell_type": "code",
   "execution_count": 47,
   "outputs": [],
   "source": [
    "torch.save(crf_model.state_dict(), 'ner_bilstm_crf_weights.pth')"
   ],
   "metadata": {
    "collapsed": false,
    "pycharm": {
     "name": "#%%\n"
    }
   }
  },
  {
   "cell_type": "code",
   "execution_count": 48,
   "outputs": [],
   "source": [
    "labels_rev = {v: k for k, v in labels.items()}"
   ],
   "metadata": {
    "collapsed": false,
    "pycharm": {
     "name": "#%%\n"
    }
   }
  },
  {
   "cell_type": "code",
   "execution_count": 49,
   "outputs": [
    {
     "name": "stdout",
     "output_type": "stream",
     "text": [
      "The boat originated from Somalia and most of those on board are believed to have been Somalians .\n",
      "['O', 'O', 'O', 'O', 'B-geo', 'O', 'O', 'O', 'O', 'O', 'O', 'O', 'O', 'O', 'O', 'O', 'B-per', 'O']\n",
      "['O', 'O', 'O', 'O', 'B-geo', 'O', 'O', 'O', 'O', 'O', 'O', 'O', 'O', 'O', 'O', 'O', 'B-gpe', 'O']\n",
      "0.5\n"
     ]
    }
   ],
   "source": [
    "i = 2876\n",
    "\n",
    "text = test_data['text'][i]\n",
    "embs = test_data['embeddings'][i]\n",
    "target = test_data['labels'][i]\n",
    "target = torch.tensor(target, device=device).unsqueeze(0)\n",
    "embs = torch.tensor(embs, device=device).unsqueeze(0)\n",
    "\n",
    "_, pred = crf_model(embs, target)\n",
    "score = f1_score_macro(pred.cpu().flatten(), target.cpu().flatten()).item()\n",
    "\n",
    "target = [labels_rev[i] for i in target[0].tolist()]\n",
    "pred = [labels_rev[i] for i in pred[0].tolist()]\n",
    "\n",
    "print(\" \".join(text))\n",
    "print(target)\n",
    "print(pred)\n",
    "print(score)"
   ],
   "metadata": {
    "collapsed": false,
    "pycharm": {
     "name": "#%%\n"
    }
   }
  }
 ]
}